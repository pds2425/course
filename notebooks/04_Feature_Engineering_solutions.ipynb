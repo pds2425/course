{
 "cells": [
  {
   "cell_type": "markdown",
   "metadata": {
    "slideshow": {
     "slide_type": "slide"
    }
   },
   "source": [
    "<a target=\"_blank\" href=\"https://colab.research.google.com/github/pds2425/course/blob/main/notebooks/04_Feature_Engineering_solutions.ipynb\n",
    "\">\n",
    "  <img src=\"https://colab.research.google.com/assets/colab-badge.svg\" alt=\"Open In Colab\"/>\n",
    "</a>"
   ]
  },
  {
   "cell_type": "markdown",
   "metadata": {
    "slideshow": {
     "slide_type": "-"
    }
   },
   "source": [
    "<div class='bar_title'></div>\n",
    "\n",
    "*Practical Data Science*\n",
    "\n",
    "# Feature Engineering\n",
    "\n",
    "Gunther Gust & Viet Nguyen<br>\n",
    "Chair for Enterprise AI "
   ]
  },
  {
   "cell_type": "markdown",
   "metadata": {},
   "source": [
    "<img src=\"images/d3.png\" style=\"width:20%; float:left;\" />"
   ]
  },
  {
   "cell_type": "markdown",
   "metadata": {},
   "source": [
    "<img src=\"images/CAIDASlogo.png\" style=\"width:20%; float:left;\" />"
   ]
  },
  {
   "cell_type": "markdown",
   "metadata": {
    "slideshow": {
     "slide_type": "subslide"
    },
    "toc": true
   },
   "source": [
    "<h1>Table of Contents<span class=\"tocSkip\"></span></h1>\n",
    "<div class=\"toc\"><ul class=\"toc-item\"><li><span><a href=\"#Introduction\" data-toc-modified-id=\"Introduction-1\"><span class=\"toc-item-num\">1&nbsp;&nbsp;</span>Introduction</a></span></li><li><span><a href=\"#Loading-the-Data\" data-toc-modified-id=\"Loading-the-Data-2\"><span class=\"toc-item-num\">2&nbsp;&nbsp;</span>Loading the Data</a></span></li><li><span><a href=\"#Select-Variables-and-Split-Dataset\" data-toc-modified-id=\"Select-Variables-and-Split-Dataset-3\"><span class=\"toc-item-num\">3&nbsp;&nbsp;</span>Select Variables and Split Dataset</a></span></li><li><span><a href=\"#Feature-Engineering-on-Numeric-Data\" data-toc-modified-id=\"Feature-Engineering-on-Numeric-Data-4\"><span class=\"toc-item-num\">4&nbsp;&nbsp;</span>Feature Engineering on Numeric Data</a></span><ul class=\"toc-item\"><li><span><a href=\"#Preprocessing\" data-toc-modified-id=\"Preprocessing-4.1\"><span class=\"toc-item-num\">4.1&nbsp;&nbsp;</span>Preprocessing</a></span><ul class=\"toc-item\"><li><span><a href=\"#Normalization\" data-toc-modified-id=\"Normalization-4.1.1\"><span class=\"toc-item-num\">4.1.1&nbsp;&nbsp;</span>Normalization</a></span></li><li><span><a href=\"#Standardization\" data-toc-modified-id=\"Standardization-4.1.2\"><span class=\"toc-item-num\">4.1.2&nbsp;&nbsp;</span>Standardization</a></span></li><li><span><a href=\"#Summary\" data-toc-modified-id=\"Summary-4.1.3\"><span class=\"toc-item-num\">4.1.3&nbsp;&nbsp;</span>Summary</a></span></li></ul></li><li><span><a href=\"#Binarization\" data-toc-modified-id=\"Binarization-4.2\"><span class=\"toc-item-num\">4.2&nbsp;&nbsp;</span>Binarization</a></span></li><li><span><a href=\"#Binning\" data-toc-modified-id=\"Binning-4.3\"><span class=\"toc-item-num\">4.3&nbsp;&nbsp;</span>Binning</a></span><ul class=\"toc-item\"><li><span><a href=\"#Fixed-Width-Binning\" data-toc-modified-id=\"Fixed-Width-Binning-4.3.1\"><span class=\"toc-item-num\">4.3.1&nbsp;&nbsp;</span>Fixed-Width Binning</a></span></li><li><span><a href=\"#Adaptive-Binning\" data-toc-modified-id=\"Adaptive-Binning-4.3.2\"><span class=\"toc-item-num\">4.3.2&nbsp;&nbsp;</span>Adaptive Binning</a></span></li></ul></li><li><span><a href=\"#Statistical-Transformations\" data-toc-modified-id=\"Statistical-Transformations-4.4\"><span class=\"toc-item-num\">4.4&nbsp;&nbsp;</span>Statistical Transformations</a></span></li><li><span><a href=\"#Evaluation\" data-toc-modified-id=\"Evaluation-4.5\"><span class=\"toc-item-num\">4.5&nbsp;&nbsp;</span>Evaluation</a></span></li></ul></li><li><span><a href=\"#Feature-Engineering-on-Categorical-Data\" data-toc-modified-id=\"Feature-Engineering-on-Categorical-Data-5\"><span class=\"toc-item-num\">5&nbsp;&nbsp;</span>Feature Engineering on Categorical Data</a></span><ul class=\"toc-item\"><li><span><a href=\"#Label-and-One-Hot-Encoding\" data-toc-modified-id=\"Label-and-One-Hot-Encoding-5.1\"><span class=\"toc-item-num\">5.1&nbsp;&nbsp;</span>Label and One-Hot-Encoding</a></span></li><li><span><a href=\"#Count-Encodings\" data-toc-modified-id=\"Count-Encodings-5.2\"><span class=\"toc-item-num\">5.2&nbsp;&nbsp;</span>Count Encodings</a></span></li><li><span><a href=\"#Target-Encodings\" data-toc-modified-id=\"Target-Encodings-5.3\"><span class=\"toc-item-num\">5.3&nbsp;&nbsp;</span>Target Encodings</a></span></li><li><span><a href=\"#CatBoost-Encoding\" data-toc-modified-id=\"CatBoost-Encoding-5.4\"><span class=\"toc-item-num\">5.4&nbsp;&nbsp;</span>CatBoost Encoding</a></span></li><li><span><a href=\"#Warning\" data-toc-modified-id=\"Warning-5.5\"><span class=\"toc-item-num\">5.5&nbsp;&nbsp;</span>Warning</a></span></li></ul></li><li><span><a href=\"#Conclusion\" data-toc-modified-id=\"Conclusion-6\"><span class=\"toc-item-num\">6&nbsp;&nbsp;</span>Conclusion</a></span></li></ul></div>"
   ]
  },
  {
   "cell_type": "markdown",
   "metadata": {
    "slideshow": {
     "slide_type": "subslide"
    }
   },
   "source": [
    "__Credits__\n",
    "\n",
    "Parts of the material of this lecture are adopted from www.kaggle.com"
   ]
  },
  {
   "cell_type": "markdown",
   "metadata": {
    "slideshow": {
     "slide_type": "subslide"
    }
   },
   "source": [
    "## Introduction"
   ]
  },
  {
   "cell_type": "markdown",
   "metadata": {
    "slideshow": {
     "slide_type": "subslide"
    }
   },
   "source": [
    "**This lecture provides an overview on different feature engineering techniques.**\n",
    "\n",
    "Starting with a baseline dataset, we will\n",
    "\n",
    "- modify existing variables \n",
    "- add additional features to  our dataset \n",
    "- train a predictive model "
   ]
  },
  {
   "cell_type": "markdown",
   "metadata": {
    "slideshow": {
     "slide_type": "subslide"
    }
   },
   "source": [
    "**Feature engineering** is an essential part of building a powerful predictive model. \n",
    "\n",
    "Each problem is domain specific and better features (suited to the problem) are often the deciding factor of the performance of your system. \n",
    "\n",
    "Feature Engineering requires experience as well as creativity and this is the reason **Data Scientists often spend the majority of their time** in the data preparation phase before modeling."
   ]
  },
  {
   "cell_type": "markdown",
   "metadata": {
    "slideshow": {
     "slide_type": "subslide"
    }
   },
   "source": [
    "_\"Coming up with features is difficult, time-consuming, requires expert knowledge. Applied machine learning is basically feature engineering.\"_\n",
    "\n",
    "Prof. Andrew Ng."
   ]
  },
  {
   "cell_type": "markdown",
   "metadata": {
    "slideshow": {
     "slide_type": "fragment"
    }
   },
   "source": [
    "_\"Feature engineering is the process of transforming raw data into features that better represent the underlying problem to the predictive models, resulting in improved model accuracy on unseen data.\"_\n",
    "\n",
    "Dr. Jason Brownlee"
   ]
  },
  {
   "cell_type": "markdown",
   "metadata": {
    "slideshow": {
     "slide_type": "fragment"
    }
   },
   "source": [
    "_\"At the end of the day, some machine learning projects succeed and some fail. What makes the difference? Easily the most important factor is the features used.\"_\n",
    "\n",
    "Prof. Pedro Domingos"
   ]
  },
  {
   "cell_type": "markdown",
   "metadata": {
    "slideshow": {
     "slide_type": "slide"
    }
   },
   "source": [
    "## Loading the Data\n",
    "This week, we will work with a sample of the [adult dataset](https://archive.ics.uci.edu/ml/datasets/adult) which has some __census information on individuals__. We'll use it to train a model to predict whether __salary is greater than 50k USD or not.__ Again, our first step is to load and familiarize ourself with the data:"
   ]
  },
  {
   "cell_type": "code",
   "execution_count": 1,
   "metadata": {
    "slideshow": {
     "slide_type": "-"
    }
   },
   "outputs": [],
   "source": [
    "import pandas as pd"
   ]
  },
  {
   "cell_type": "code",
   "execution_count": 2,
   "metadata": {
    "slideshow": {
     "slide_type": "-"
    }
   },
   "outputs": [
    {
     "data": {
      "text/html": [
       "<div>\n",
       "<style scoped>\n",
       "    .dataframe tbody tr th:only-of-type {\n",
       "        vertical-align: middle;\n",
       "    }\n",
       "\n",
       "    .dataframe tbody tr th {\n",
       "        vertical-align: top;\n",
       "    }\n",
       "\n",
       "    .dataframe thead th {\n",
       "        text-align: right;\n",
       "    }\n",
       "</style>\n",
       "<table border=\"1\" class=\"dataframe\">\n",
       "  <thead>\n",
       "    <tr style=\"text-align: right;\">\n",
       "      <th></th>\n",
       "      <th>age</th>\n",
       "      <th>workclass</th>\n",
       "      <th>fnlwgt</th>\n",
       "      <th>education</th>\n",
       "      <th>education-num</th>\n",
       "      <th>marital-status</th>\n",
       "      <th>occupation</th>\n",
       "      <th>relationship</th>\n",
       "      <th>race</th>\n",
       "      <th>sex</th>\n",
       "      <th>capital-gain</th>\n",
       "      <th>capital-loss</th>\n",
       "      <th>hours-per-week</th>\n",
       "      <th>native-country</th>\n",
       "      <th>salary</th>\n",
       "    </tr>\n",
       "  </thead>\n",
       "  <tbody>\n",
       "    <tr>\n",
       "      <th>0</th>\n",
       "      <td>49</td>\n",
       "      <td>Private</td>\n",
       "      <td>101320</td>\n",
       "      <td>Assoc-acdm</td>\n",
       "      <td>12.0</td>\n",
       "      <td>Married-civ-spouse</td>\n",
       "      <td>NaN</td>\n",
       "      <td>Wife</td>\n",
       "      <td>White</td>\n",
       "      <td>Female</td>\n",
       "      <td>0</td>\n",
       "      <td>1902</td>\n",
       "      <td>40</td>\n",
       "      <td>United-States</td>\n",
       "      <td>&gt;=50k</td>\n",
       "    </tr>\n",
       "    <tr>\n",
       "      <th>1</th>\n",
       "      <td>44</td>\n",
       "      <td>Private</td>\n",
       "      <td>236746</td>\n",
       "      <td>Masters</td>\n",
       "      <td>14.0</td>\n",
       "      <td>Divorced</td>\n",
       "      <td>Exec-managerial</td>\n",
       "      <td>Not-in-family</td>\n",
       "      <td>White</td>\n",
       "      <td>Male</td>\n",
       "      <td>10520</td>\n",
       "      <td>0</td>\n",
       "      <td>45</td>\n",
       "      <td>United-States</td>\n",
       "      <td>&gt;=50k</td>\n",
       "    </tr>\n",
       "    <tr>\n",
       "      <th>2</th>\n",
       "      <td>38</td>\n",
       "      <td>Private</td>\n",
       "      <td>96185</td>\n",
       "      <td>HS-grad</td>\n",
       "      <td>NaN</td>\n",
       "      <td>Divorced</td>\n",
       "      <td>NaN</td>\n",
       "      <td>Unmarried</td>\n",
       "      <td>Black</td>\n",
       "      <td>Female</td>\n",
       "      <td>0</td>\n",
       "      <td>0</td>\n",
       "      <td>32</td>\n",
       "      <td>United-States</td>\n",
       "      <td>&lt;50k</td>\n",
       "    </tr>\n",
       "    <tr>\n",
       "      <th>3</th>\n",
       "      <td>38</td>\n",
       "      <td>Self-emp-inc</td>\n",
       "      <td>112847</td>\n",
       "      <td>Prof-school</td>\n",
       "      <td>15.0</td>\n",
       "      <td>Married-civ-spouse</td>\n",
       "      <td>Prof-specialty</td>\n",
       "      <td>Husband</td>\n",
       "      <td>Asian-Pac-Islander</td>\n",
       "      <td>Male</td>\n",
       "      <td>0</td>\n",
       "      <td>0</td>\n",
       "      <td>40</td>\n",
       "      <td>United-States</td>\n",
       "      <td>&gt;=50k</td>\n",
       "    </tr>\n",
       "    <tr>\n",
       "      <th>4</th>\n",
       "      <td>42</td>\n",
       "      <td>Self-emp-not-inc</td>\n",
       "      <td>82297</td>\n",
       "      <td>7th-8th</td>\n",
       "      <td>NaN</td>\n",
       "      <td>Married-civ-spouse</td>\n",
       "      <td>Other-service</td>\n",
       "      <td>Wife</td>\n",
       "      <td>Black</td>\n",
       "      <td>Female</td>\n",
       "      <td>0</td>\n",
       "      <td>0</td>\n",
       "      <td>50</td>\n",
       "      <td>United-States</td>\n",
       "      <td>&lt;50k</td>\n",
       "    </tr>\n",
       "  </tbody>\n",
       "</table>\n",
       "</div>"
      ],
      "text/plain": [
       "   age          workclass  fnlwgt     education  education-num  \\\n",
       "0   49            Private  101320    Assoc-acdm           12.0   \n",
       "1   44            Private  236746       Masters           14.0   \n",
       "2   38            Private   96185       HS-grad            NaN   \n",
       "3   38       Self-emp-inc  112847   Prof-school           15.0   \n",
       "4   42   Self-emp-not-inc   82297       7th-8th            NaN   \n",
       "\n",
       "        marital-status        occupation    relationship                 race  \\\n",
       "0   Married-civ-spouse               NaN            Wife                White   \n",
       "1             Divorced   Exec-managerial   Not-in-family                White   \n",
       "2             Divorced               NaN       Unmarried                Black   \n",
       "3   Married-civ-spouse    Prof-specialty         Husband   Asian-Pac-Islander   \n",
       "4   Married-civ-spouse     Other-service            Wife                Black   \n",
       "\n",
       "       sex  capital-gain  capital-loss  hours-per-week  native-country salary  \n",
       "0   Female             0          1902              40   United-States  >=50k  \n",
       "1     Male         10520             0              45   United-States  >=50k  \n",
       "2   Female             0             0              32   United-States   <50k  \n",
       "3     Male             0             0              40   United-States  >=50k  \n",
       "4   Female             0             0              50   United-States   <50k  "
      ]
     },
     "execution_count": 2,
     "metadata": {},
     "output_type": "execute_result"
    }
   ],
   "source": [
    "file_path = 'https://raw.githubusercontent.com/GuntherGust/tds2_data/main/data/adult.csv'\n",
    "adult_data = pd.read_csv(file_path)\n",
    "adult_data.head()"
   ]
  },
  {
   "cell_type": "markdown",
   "metadata": {
    "slideshow": {
     "slide_type": "slide"
    }
   },
   "source": [
    "## Select Variables and Split Dataset\n",
    "\n",
    "Before we start to engineer new features, we select the feature and target variables. \n",
    "\n",
    "The (binary) variable ``salary`` describes if a person earns more or less that \\\\$50k. We replace the labels with numeric values (0: Salary < \\\\$50k, 1: Salary > \\\\$50k) and subsequently select it as our target variable y."
   ]
  },
  {
   "cell_type": "code",
   "execution_count": 3,
   "metadata": {
    "slideshow": {
     "slide_type": "fragment"
    }
   },
   "outputs": [
    {
     "name": "stdout",
     "output_type": "stream",
     "text": [
      "   age          workclass  fnlwgt     education  education-num  \\\n",
      "0   49            Private  101320    Assoc-acdm           12.0   \n",
      "1   44            Private  236746       Masters           14.0   \n",
      "2   38            Private   96185       HS-grad            NaN   \n",
      "3   38       Self-emp-inc  112847   Prof-school           15.0   \n",
      "4   42   Self-emp-not-inc   82297       7th-8th            NaN   \n",
      "\n",
      "        marital-status        occupation    relationship                 race  \\\n",
      "0   Married-civ-spouse               NaN            Wife                White   \n",
      "1             Divorced   Exec-managerial   Not-in-family                White   \n",
      "2             Divorced               NaN       Unmarried                Black   \n",
      "3   Married-civ-spouse    Prof-specialty         Husband   Asian-Pac-Islander   \n",
      "4   Married-civ-spouse     Other-service            Wife                Black   \n",
      "\n",
      "       sex  capital-gain  capital-loss  hours-per-week  native-country  salary  \n",
      "0   Female             0          1902              40   United-States       1  \n",
      "1     Male         10520             0              45   United-States       1  \n",
      "2   Female             0             0              32   United-States       0  \n",
      "3     Male             0             0              40   United-States       1  \n",
      "4   Female             0             0              50   United-States       0  \n"
     ]
    }
   ],
   "source": [
    "adult_data = adult_data.assign(salary=(adult_data['salary']=='>=50k').astype(int))\n",
    "print(adult_data.head())\n",
    "\n",
    "y = adult_data['salary']\n"
   ]
  },
  {
   "cell_type": "markdown",
   "metadata": {
    "slideshow": {
     "slide_type": "fragment"
    }
   },
   "source": [
    "The remaining columns serve as our features X."
   ]
  },
  {
   "cell_type": "code",
   "execution_count": 4,
   "metadata": {
    "slideshow": {
     "slide_type": "fragment"
    }
   },
   "outputs": [],
   "source": [
    "X = adult_data.drop('salary', axis=1)"
   ]
  },
  {
   "cell_type": "markdown",
   "metadata": {
    "slideshow": {
     "slide_type": "subslide"
    }
   },
   "source": [
    "Next, we perform a train-test split to train and evaluate our machine learning models for the model validation."
   ]
  },
  {
   "cell_type": "code",
   "execution_count": 5,
   "metadata": {
    "slideshow": {
     "slide_type": "fragment"
    }
   },
   "outputs": [],
   "source": [
    "from sklearn.model_selection import train_test_split"
   ]
  },
  {
   "cell_type": "code",
   "execution_count": 6,
   "metadata": {
    "slideshow": {
     "slide_type": "fragment"
    }
   },
   "outputs": [],
   "source": [
    "train_X, val_X, train_y, val_y = train_test_split(X, y, random_state = 0)"
   ]
  },
  {
   "cell_type": "markdown",
   "metadata": {
    "slideshow": {
     "slide_type": "fragment"
    }
   },
   "source": [
    "Now we are ready to start preparing and enhancing our numerical and categorical features!"
   ]
  },
  {
   "cell_type": "markdown",
   "metadata": {
    "slideshow": {
     "slide_type": "slide"
    }
   },
   "source": [
    "## Feature Engineering on Numeric Data\n",
    "\n",
    "By Numeric data we mean continuous data and not discrete data which is typically represented as categorical data. Integers and floats are the most common and widely used numeric data types for continuous numeric data. Even though numeric data can be directly fed into machine learning models, we still have to engineer and preprocess features which are relevant to the scenario, problem, domain and machine learning model.\n",
    "\n",
    "To this end, we can distinguish between preprocessing and feature generation."
   ]
  },
  {
   "cell_type": "markdown",
   "metadata": {
    "slideshow": {
     "slide_type": "fragment"
    }
   },
   "source": [
    "To work on our numeric features, we have to identify all numeric columns in our dataset:"
   ]
  },
  {
   "cell_type": "code",
   "execution_count": 7,
   "metadata": {
    "slideshow": {
     "slide_type": "fragment"
    }
   },
   "outputs": [
    {
     "data": {
      "text/plain": [
       "['age',\n",
       " 'fnlwgt',\n",
       " 'education-num',\n",
       " 'capital-gain',\n",
       " 'capital-loss',\n",
       " 'hours-per-week']"
      ]
     },
     "execution_count": 7,
     "metadata": {},
     "output_type": "execute_result"
    }
   ],
   "source": [
    "numCols = [cname for cname in train_X.columns if train_X[cname].dtype != \"object\"]\n",
    "numCols"
   ]
  },
  {
   "cell_type": "markdown",
   "metadata": {
    "slideshow": {
     "slide_type": "subslide"
    }
   },
   "source": [
    "To avoid problems with missing values we use a ``SimpleImputer`` for the numeric columns before we continue:"
   ]
  },
  {
   "cell_type": "code",
   "execution_count": 8,
   "metadata": {},
   "outputs": [],
   "source": [
    "from sklearn.impute import SimpleImputer\n",
    "\n",
    "simple_imputer = SimpleImputer()\n",
    "\n",
    "train_X_num = pd.DataFrame(simple_imputer.fit_transform(train_X[numCols]), columns=numCols, index=train_X.index)\n",
    "val_X_num = pd.DataFrame(simple_imputer.transform(val_X[numCols]), columns=numCols, index=val_X.index)"
   ]
  },
  {
   "cell_type": "markdown",
   "metadata": {
    "slideshow": {
     "slide_type": "subslide"
    }
   },
   "source": [
    "### Preprocessing\n",
    "\n",
    "Our dataset may contain attributes with a mixture of scales for various quantities. However, many machine learning methods require or at least are more effective if the data attributes have the same scale. \n",
    "\n",
    "For example, ``capital gain`` and ``capital loss`` is measured in USD while age is measured in years in our dataset at hand.\n",
    "\n",
    "To avoid having numeric values from different scales we can use two popular data scaling methods: normalization and standardization."
   ]
  },
  {
   "cell_type": "markdown",
   "metadata": {
    "slideshow": {
     "slide_type": "subslide"
    }
   },
   "source": [
    "#### Normalization\n",
    "\n",
    "Normalization refers to rescaling numeric attributes into the __range between 0 and 1.__ It is useful to scale the input attributes for a model that relies on the magnitude of values, such as distance measures used in k-nearest neighbors and in the preparation of coefficients in regression.\n",
    "\n",
    "Using Scikit-learn's ``MinMaxScaler`` we can rescale an attribute according to the following formula:\n",
    "\n",
    "\n",
    "\\begin{equation}\n",
    "    X = \\frac{(X - min(X))}{(max(X) - min(X))}\n",
    "\\end{equation}"
   ]
  },
  {
   "cell_type": "code",
   "execution_count": 9,
   "metadata": {
    "slideshow": {
     "slide_type": "fragment"
    }
   },
   "outputs": [
    {
     "data": {
      "text/html": [
       "<div>\n",
       "<style scoped>\n",
       "    .dataframe tbody tr th:only-of-type {\n",
       "        vertical-align: middle;\n",
       "    }\n",
       "\n",
       "    .dataframe tbody tr th {\n",
       "        vertical-align: top;\n",
       "    }\n",
       "\n",
       "    .dataframe thead th {\n",
       "        text-align: right;\n",
       "    }\n",
       "</style>\n",
       "<table border=\"1\" class=\"dataframe\">\n",
       "  <thead>\n",
       "    <tr style=\"text-align: right;\">\n",
       "      <th></th>\n",
       "      <th>age</th>\n",
       "      <th>fnlwgt</th>\n",
       "      <th>education-num</th>\n",
       "      <th>capital-gain</th>\n",
       "      <th>capital-loss</th>\n",
       "      <th>hours-per-week</th>\n",
       "    </tr>\n",
       "  </thead>\n",
       "  <tbody>\n",
       "    <tr>\n",
       "      <th>26464</th>\n",
       "      <td>0.136986</td>\n",
       "      <td>0.215102</td>\n",
       "      <td>0.533333</td>\n",
       "      <td>0.00000</td>\n",
       "      <td>0.0</td>\n",
       "      <td>0.397959</td>\n",
       "    </tr>\n",
       "    <tr>\n",
       "      <th>16134</th>\n",
       "      <td>0.054795</td>\n",
       "      <td>0.118419</td>\n",
       "      <td>0.600000</td>\n",
       "      <td>0.00000</td>\n",
       "      <td>0.0</td>\n",
       "      <td>0.193878</td>\n",
       "    </tr>\n",
       "    <tr>\n",
       "      <th>4747</th>\n",
       "      <td>0.465753</td>\n",
       "      <td>0.038438</td>\n",
       "      <td>0.066667</td>\n",
       "      <td>0.00000</td>\n",
       "      <td>0.0</td>\n",
       "      <td>0.346939</td>\n",
       "    </tr>\n",
       "    <tr>\n",
       "      <th>8369</th>\n",
       "      <td>0.095890</td>\n",
       "      <td>0.128628</td>\n",
       "      <td>0.533333</td>\n",
       "      <td>0.00000</td>\n",
       "      <td>0.0</td>\n",
       "      <td>0.602041</td>\n",
       "    </tr>\n",
       "    <tr>\n",
       "      <th>5741</th>\n",
       "      <td>0.205479</td>\n",
       "      <td>0.064474</td>\n",
       "      <td>0.800000</td>\n",
       "      <td>0.00000</td>\n",
       "      <td>0.0</td>\n",
       "      <td>0.397959</td>\n",
       "    </tr>\n",
       "    <tr>\n",
       "      <th>...</th>\n",
       "      <td>...</td>\n",
       "      <td>...</td>\n",
       "      <td>...</td>\n",
       "      <td>...</td>\n",
       "      <td>...</td>\n",
       "      <td>...</td>\n",
       "    </tr>\n",
       "    <tr>\n",
       "      <th>13123</th>\n",
       "      <td>0.041096</td>\n",
       "      <td>0.093175</td>\n",
       "      <td>0.600000</td>\n",
       "      <td>0.00000</td>\n",
       "      <td>0.0</td>\n",
       "      <td>0.244898</td>\n",
       "    </tr>\n",
       "    <tr>\n",
       "      <th>19648</th>\n",
       "      <td>0.205479</td>\n",
       "      <td>0.176642</td>\n",
       "      <td>0.733333</td>\n",
       "      <td>0.00000</td>\n",
       "      <td>0.0</td>\n",
       "      <td>0.397959</td>\n",
       "    </tr>\n",
       "    <tr>\n",
       "      <th>9845</th>\n",
       "      <td>0.315068</td>\n",
       "      <td>0.039635</td>\n",
       "      <td>0.000000</td>\n",
       "      <td>0.00000</td>\n",
       "      <td>0.0</td>\n",
       "      <td>0.193878</td>\n",
       "    </tr>\n",
       "    <tr>\n",
       "      <th>10799</th>\n",
       "      <td>0.150685</td>\n",
       "      <td>0.011654</td>\n",
       "      <td>0.533333</td>\n",
       "      <td>0.00000</td>\n",
       "      <td>0.0</td>\n",
       "      <td>0.397959</td>\n",
       "    </tr>\n",
       "    <tr>\n",
       "      <th>2732</th>\n",
       "      <td>0.109589</td>\n",
       "      <td>0.142264</td>\n",
       "      <td>0.533333</td>\n",
       "      <td>0.03325</td>\n",
       "      <td>0.0</td>\n",
       "      <td>0.448980</td>\n",
       "    </tr>\n",
       "  </tbody>\n",
       "</table>\n",
       "<p>24420 rows × 6 columns</p>\n",
       "</div>"
      ],
      "text/plain": [
       "            age    fnlwgt  education-num  capital-gain  capital-loss  \\\n",
       "26464  0.136986  0.215102       0.533333       0.00000           0.0   \n",
       "16134  0.054795  0.118419       0.600000       0.00000           0.0   \n",
       "4747   0.465753  0.038438       0.066667       0.00000           0.0   \n",
       "8369   0.095890  0.128628       0.533333       0.00000           0.0   \n",
       "5741   0.205479  0.064474       0.800000       0.00000           0.0   \n",
       "...         ...       ...            ...           ...           ...   \n",
       "13123  0.041096  0.093175       0.600000       0.00000           0.0   \n",
       "19648  0.205479  0.176642       0.733333       0.00000           0.0   \n",
       "9845   0.315068  0.039635       0.000000       0.00000           0.0   \n",
       "10799  0.150685  0.011654       0.533333       0.00000           0.0   \n",
       "2732   0.109589  0.142264       0.533333       0.03325           0.0   \n",
       "\n",
       "       hours-per-week  \n",
       "26464        0.397959  \n",
       "16134        0.193878  \n",
       "4747         0.346939  \n",
       "8369         0.602041  \n",
       "5741         0.397959  \n",
       "...               ...  \n",
       "13123        0.244898  \n",
       "19648        0.397959  \n",
       "9845         0.193878  \n",
       "10799        0.397959  \n",
       "2732         0.448980  \n",
       "\n",
       "[24420 rows x 6 columns]"
      ]
     },
     "execution_count": 9,
     "metadata": {},
     "output_type": "execute_result"
    }
   ],
   "source": [
    "from sklearn.preprocessing import MinMaxScaler\n",
    "\n",
    "scaler = MinMaxScaler()\n",
    "\n",
    "train_X_num_normalized = pd.DataFrame(scaler.fit_transform(train_X_num), \n",
    "                                      columns=train_X_num.columns, index=train_X_num.index)\n",
    "val_X_num_normalized = pd.DataFrame(scaler.transform(val_X_num), \n",
    "                                    columns=train_X_num.columns, index=val_X_num.index)\n",
    "\n",
    "train_X_num_normalized"
   ]
  },
  {
   "cell_type": "markdown",
   "metadata": {
    "slideshow": {
     "slide_type": "subslide"
    }
   },
   "source": [
    "#### Standardization\n",
    "\n",
    "In contrast to normalization, we could also use standardization for our numerical variables. In this context, standardization refers to shifting the distribution of each attribute to have a mean of zero and a standard deviation of one. It is useful to standardize attributes for a model that relies on the distribution of attributes such as Gaussian processes.\n",
    "\n",
    "Using Scikit-learn's ```StandardScaler``` we can rescale an attribute according to the following formula:\n",
    "\n",
    "\n",
    "\\begin{equation}\n",
    "    X = \\frac{(X - mean(X))}{\\sqrt{var(X)}}\n",
    "\\end{equation}"
   ]
  },
  {
   "cell_type": "code",
   "execution_count": 10,
   "metadata": {
    "slideshow": {
     "slide_type": "fragment"
    }
   },
   "outputs": [
    {
     "data": {
      "text/html": [
       "<div>\n",
       "<style scoped>\n",
       "    .dataframe tbody tr th:only-of-type {\n",
       "        vertical-align: middle;\n",
       "    }\n",
       "\n",
       "    .dataframe tbody tr th {\n",
       "        vertical-align: top;\n",
       "    }\n",
       "\n",
       "    .dataframe thead th {\n",
       "        text-align: right;\n",
       "    }\n",
       "</style>\n",
       "<table border=\"1\" class=\"dataframe\">\n",
       "  <thead>\n",
       "    <tr style=\"text-align: right;\">\n",
       "      <th></th>\n",
       "      <th>age</th>\n",
       "      <th>fnlwgt</th>\n",
       "      <th>education-num</th>\n",
       "      <th>capital-gain</th>\n",
       "      <th>capital-loss</th>\n",
       "      <th>hours-per-week</th>\n",
       "    </tr>\n",
       "  </thead>\n",
       "  <tbody>\n",
       "    <tr>\n",
       "      <th>26464</th>\n",
       "      <td>-0.853017</td>\n",
       "      <td>1.316410</td>\n",
       "      <td>-0.420746</td>\n",
       "      <td>-0.146391</td>\n",
       "      <td>-0.217388</td>\n",
       "      <td>-0.036400</td>\n",
       "    </tr>\n",
       "    <tr>\n",
       "      <th>16134</th>\n",
       "      <td>-1.292554</td>\n",
       "      <td>-0.027373</td>\n",
       "      <td>-0.029346</td>\n",
       "      <td>-0.146391</td>\n",
       "      <td>-0.217388</td>\n",
       "      <td>-1.652429</td>\n",
       "    </tr>\n",
       "    <tr>\n",
       "      <th>4747</th>\n",
       "      <td>0.905131</td>\n",
       "      <td>-1.139029</td>\n",
       "      <td>-3.160546</td>\n",
       "      <td>-0.146391</td>\n",
       "      <td>-0.217388</td>\n",
       "      <td>-0.440408</td>\n",
       "    </tr>\n",
       "    <tr>\n",
       "      <th>8369</th>\n",
       "      <td>-1.072786</td>\n",
       "      <td>0.114522</td>\n",
       "      <td>-0.420746</td>\n",
       "      <td>-0.146391</td>\n",
       "      <td>-0.217388</td>\n",
       "      <td>1.579628</td>\n",
       "    </tr>\n",
       "    <tr>\n",
       "      <th>5741</th>\n",
       "      <td>-0.486737</td>\n",
       "      <td>-0.777155</td>\n",
       "      <td>1.144853</td>\n",
       "      <td>-0.146391</td>\n",
       "      <td>-0.217388</td>\n",
       "      <td>-0.036400</td>\n",
       "    </tr>\n",
       "  </tbody>\n",
       "</table>\n",
       "</div>"
      ],
      "text/plain": [
       "            age    fnlwgt  education-num  capital-gain  capital-loss  \\\n",
       "26464 -0.853017  1.316410      -0.420746     -0.146391     -0.217388   \n",
       "16134 -1.292554 -0.027373      -0.029346     -0.146391     -0.217388   \n",
       "4747   0.905131 -1.139029      -3.160546     -0.146391     -0.217388   \n",
       "8369  -1.072786  0.114522      -0.420746     -0.146391     -0.217388   \n",
       "5741  -0.486737 -0.777155       1.144853     -0.146391     -0.217388   \n",
       "\n",
       "       hours-per-week  \n",
       "26464       -0.036400  \n",
       "16134       -1.652429  \n",
       "4747        -0.440408  \n",
       "8369         1.579628  \n",
       "5741        -0.036400  "
      ]
     },
     "execution_count": 10,
     "metadata": {},
     "output_type": "execute_result"
    }
   ],
   "source": [
    "from sklearn.preprocessing import StandardScaler\n",
    "\n",
    "scaler = StandardScaler()\n",
    "\n",
    "train_X_num_standardized = pd.DataFrame(scaler.fit_transform(train_X_num), \n",
    "                                        columns=train_X_num.columns, index=train_X_num.index)\n",
    "val_X_num_standardized = pd.DataFrame(scaler.transform(val_X_num), \n",
    "                                      columns=train_X_num.columns, index=val_X_num.index)\n",
    "\n",
    "train_X_num_standardized.head()"
   ]
  },
  {
   "cell_type": "markdown",
   "metadata": {
    "slideshow": {
     "slide_type": "subslide"
    }
   },
   "source": [
    "#### Summary\n",
    "\n",
    "Data rescaling is an important part of data preparation before applying machine learning algorithms. However, it is hard to know whether normalization or standardization of the data will improve the performance of a predictive model in advance. \n",
    "\n",
    "A good tip for a practical application is to create rescaled copies of your dataset and evaluate them against each other. This process can quickly show which rescaling method will improve your selected models in the problem at hand."
   ]
  },
  {
   "cell_type": "markdown",
   "metadata": {
    "slideshow": {
     "slide_type": "subslide"
    }
   },
   "source": [
    "### Binarization\n",
    "\n",
    "For some problems raw frequencies or counts may not be relevant for building a model. In these cases it is only relevant if a numeric value exceeds a specific threshold (e.g. a person is at least 40 years old). Hence we do not require the number of times the action was performed but only a binary feature.\n",
    "\n",
    "We can binarize a feature using Scikit-learn's ``Binarizer`` function (Note that we use the raw dataset for this example - clearly we could normalize or standardize the dataframe afterwards):"
   ]
  },
  {
   "cell_type": "code",
   "execution_count": 11,
   "metadata": {
    "slideshow": {
     "slide_type": "fragment"
    }
   },
   "outputs": [
    {
     "data": {
      "text/html": [
       "<div>\n",
       "<style scoped>\n",
       "    .dataframe tbody tr th:only-of-type {\n",
       "        vertical-align: middle;\n",
       "    }\n",
       "\n",
       "    .dataframe tbody tr th {\n",
       "        vertical-align: top;\n",
       "    }\n",
       "\n",
       "    .dataframe thead th {\n",
       "        text-align: right;\n",
       "    }\n",
       "</style>\n",
       "<table border=\"1\" class=\"dataframe\">\n",
       "  <thead>\n",
       "    <tr style=\"text-align: right;\">\n",
       "      <th></th>\n",
       "      <th>age</th>\n",
       "      <th>fnlwgt</th>\n",
       "      <th>education-num</th>\n",
       "      <th>capital-gain</th>\n",
       "      <th>capital-loss</th>\n",
       "      <th>hours-per-week</th>\n",
       "      <th>40Plus</th>\n",
       "    </tr>\n",
       "  </thead>\n",
       "  <tbody>\n",
       "    <tr>\n",
       "      <th>26464</th>\n",
       "      <td>27.0</td>\n",
       "      <td>329005.0</td>\n",
       "      <td>9.0</td>\n",
       "      <td>0.0</td>\n",
       "      <td>0.0</td>\n",
       "      <td>40.0</td>\n",
       "      <td>0.0</td>\n",
       "    </tr>\n",
       "    <tr>\n",
       "      <th>16134</th>\n",
       "      <td>21.0</td>\n",
       "      <td>186648.0</td>\n",
       "      <td>10.0</td>\n",
       "      <td>0.0</td>\n",
       "      <td>0.0</td>\n",
       "      <td>20.0</td>\n",
       "      <td>0.0</td>\n",
       "    </tr>\n",
       "    <tr>\n",
       "      <th>4747</th>\n",
       "      <td>51.0</td>\n",
       "      <td>68882.0</td>\n",
       "      <td>2.0</td>\n",
       "      <td>0.0</td>\n",
       "      <td>0.0</td>\n",
       "      <td>35.0</td>\n",
       "      <td>1.0</td>\n",
       "    </tr>\n",
       "    <tr>\n",
       "      <th>8369</th>\n",
       "      <td>24.0</td>\n",
       "      <td>201680.0</td>\n",
       "      <td>9.0</td>\n",
       "      <td>0.0</td>\n",
       "      <td>0.0</td>\n",
       "      <td>60.0</td>\n",
       "      <td>0.0</td>\n",
       "    </tr>\n",
       "    <tr>\n",
       "      <th>5741</th>\n",
       "      <td>32.0</td>\n",
       "      <td>107218.0</td>\n",
       "      <td>13.0</td>\n",
       "      <td>0.0</td>\n",
       "      <td>0.0</td>\n",
       "      <td>40.0</td>\n",
       "      <td>0.0</td>\n",
       "    </tr>\n",
       "  </tbody>\n",
       "</table>\n",
       "</div>"
      ],
      "text/plain": [
       "        age    fnlwgt  education-num  capital-gain  capital-loss  \\\n",
       "26464  27.0  329005.0            9.0           0.0           0.0   \n",
       "16134  21.0  186648.0           10.0           0.0           0.0   \n",
       "4747   51.0   68882.0            2.0           0.0           0.0   \n",
       "8369   24.0  201680.0            9.0           0.0           0.0   \n",
       "5741   32.0  107218.0           13.0           0.0           0.0   \n",
       "\n",
       "       hours-per-week  40Plus  \n",
       "26464            40.0     0.0  \n",
       "16134            20.0     0.0  \n",
       "4747             35.0     1.0  \n",
       "8369             60.0     0.0  \n",
       "5741             40.0     0.0  "
      ]
     },
     "execution_count": 11,
     "metadata": {},
     "output_type": "execute_result"
    }
   ],
   "source": [
    "from sklearn.preprocessing import Binarizer\n",
    "\n",
    "train_X_binary_age = train_X_num.copy()\n",
    "val_X_binary_age = val_X_num.copy()\n",
    "\n",
    "binarizer = Binarizer(threshold=40)\n",
    "\n",
    "train_X_binary_age['40Plus'] = binarizer.transform([train_X_binary_age['age']])[0]\n",
    "val_X_binary_age['40Plus'] = binarizer.transform([val_X_binary_age['age']])[0]\n",
    "\n",
    "train_X_binary_age.head()"
   ]
  },
  {
   "cell_type": "markdown",
   "metadata": {
    "slideshow": {
     "slide_type": "subslide"
    }
   },
   "source": [
    "### Binning\n",
    "\n",
    "The problem of working with raw, numeric features is that often the distribution of values in these features will be skewed. This signifies that some values will occur quite frequently while some will be quite rare. Hence there are strategies to deal with this, which include binning. \n",
    "\n",
    "Binning is used for transforming continuous numeric features into discrete ones. These discrete values can be interpreted as categories or bins into which the raw values are grouped into. Each group represents a specific degree of intensity and hence a specific range of continuous numeric values fall into it.\n",
    "\n",
    "Let's again use the age variable to perform two different types of binning."
   ]
  },
  {
   "cell_type": "markdown",
   "metadata": {
    "slideshow": {
     "slide_type": "subslide"
    }
   },
   "source": [
    "#### Fixed-Width Binning\n",
    "\n",
    "In fixed-width binning, specific fixed widths for each bin are defined by the user. Each bin has a fixed range of values which should be assigned to that bin on the basis of some domain knowledge.\n",
    "\n",
    "We can use Pandas ```cut``` function to bin the age into predefined groups and assign labels:"
   ]
  },
  {
   "cell_type": "code",
   "execution_count": 12,
   "metadata": {
    "slideshow": {
     "slide_type": "fragment"
    }
   },
   "outputs": [
    {
     "data": {
      "text/html": [
       "<div>\n",
       "<style scoped>\n",
       "    .dataframe tbody tr th:only-of-type {\n",
       "        vertical-align: middle;\n",
       "    }\n",
       "\n",
       "    .dataframe tbody tr th {\n",
       "        vertical-align: top;\n",
       "    }\n",
       "\n",
       "    .dataframe thead th {\n",
       "        text-align: right;\n",
       "    }\n",
       "</style>\n",
       "<table border=\"1\" class=\"dataframe\">\n",
       "  <thead>\n",
       "    <tr style=\"text-align: right;\">\n",
       "      <th></th>\n",
       "      <th>age</th>\n",
       "      <th>fnlwgt</th>\n",
       "      <th>education-num</th>\n",
       "      <th>capital-gain</th>\n",
       "      <th>capital-loss</th>\n",
       "      <th>hours-per-week</th>\n",
       "      <th>AgeBinned</th>\n",
       "    </tr>\n",
       "  </thead>\n",
       "  <tbody>\n",
       "    <tr>\n",
       "      <th>26464</th>\n",
       "      <td>27.0</td>\n",
       "      <td>329005.0</td>\n",
       "      <td>9.0</td>\n",
       "      <td>0.0</td>\n",
       "      <td>0.0</td>\n",
       "      <td>40.0</td>\n",
       "      <td>1</td>\n",
       "    </tr>\n",
       "    <tr>\n",
       "      <th>16134</th>\n",
       "      <td>21.0</td>\n",
       "      <td>186648.0</td>\n",
       "      <td>10.0</td>\n",
       "      <td>0.0</td>\n",
       "      <td>0.0</td>\n",
       "      <td>20.0</td>\n",
       "      <td>0</td>\n",
       "    </tr>\n",
       "    <tr>\n",
       "      <th>4747</th>\n",
       "      <td>51.0</td>\n",
       "      <td>68882.0</td>\n",
       "      <td>2.0</td>\n",
       "      <td>0.0</td>\n",
       "      <td>0.0</td>\n",
       "      <td>35.0</td>\n",
       "      <td>1</td>\n",
       "    </tr>\n",
       "    <tr>\n",
       "      <th>8369</th>\n",
       "      <td>24.0</td>\n",
       "      <td>201680.0</td>\n",
       "      <td>9.0</td>\n",
       "      <td>0.0</td>\n",
       "      <td>0.0</td>\n",
       "      <td>60.0</td>\n",
       "      <td>0</td>\n",
       "    </tr>\n",
       "    <tr>\n",
       "      <th>5741</th>\n",
       "      <td>32.0</td>\n",
       "      <td>107218.0</td>\n",
       "      <td>13.0</td>\n",
       "      <td>0.0</td>\n",
       "      <td>0.0</td>\n",
       "      <td>40.0</td>\n",
       "      <td>1</td>\n",
       "    </tr>\n",
       "  </tbody>\n",
       "</table>\n",
       "</div>"
      ],
      "text/plain": [
       "        age    fnlwgt  education-num  capital-gain  capital-loss  \\\n",
       "26464  27.0  329005.0            9.0           0.0           0.0   \n",
       "16134  21.0  186648.0           10.0           0.0           0.0   \n",
       "4747   51.0   68882.0            2.0           0.0           0.0   \n",
       "8369   24.0  201680.0            9.0           0.0           0.0   \n",
       "5741   32.0  107218.0           13.0           0.0           0.0   \n",
       "\n",
       "       hours-per-week AgeBinned  \n",
       "26464            40.0         1  \n",
       "16134            20.0         0  \n",
       "4747             35.0         1  \n",
       "8369             60.0         0  \n",
       "5741             40.0         1  "
      ]
     },
     "execution_count": 12,
     "metadata": {},
     "output_type": "execute_result"
    }
   ],
   "source": [
    "train_X_bin_age = train_X_num.copy()\n",
    "val_X_bin_age = val_X_num.copy()\n",
    "\n",
    "bin_ranges = [0, 25, 60, 999]\n",
    "bin_labels = [0, 1, 2]\n",
    "\n",
    "train_X_bin_age['AgeBinned'] = pd.cut(train_X_bin_age['age'], \n",
    "                                      bins=bin_ranges, labels=bin_labels)\n",
    "val_X_bin_age['AgeBinned'] = pd.cut(val_X_bin_age['age'], \n",
    "                                    bins=bin_ranges, labels=bin_labels)\n",
    "\n",
    "train_X_bin_age.head()"
   ]
  },
  {
   "cell_type": "markdown",
   "metadata": {
    "slideshow": {
     "slide_type": "subslide"
    }
   },
   "source": [
    "#### Adaptive Binning\n",
    "\n",
    "The major drawback in using fixed-width binning is __unbalanced bin sizes.__ As we manually decide the bin ranges, we can end up with irregular bins which are not uniform based on the number of data points. Some bins (such as \"young (0)\" and \"old (2)\") might be sparsely populated while some (such as \"medium (1)\") are densely populated.\n",
    "\n",
    "To overcome this issues we can use adaptive binning based on the distribution of the data.\n",
    "\n",
    "To cut the space into equal partitions we can use the quantiles as cut-points:"
   ]
  },
  {
   "cell_type": "code",
   "execution_count": 13,
   "metadata": {
    "slideshow": {
     "slide_type": "fragment"
    }
   },
   "outputs": [
    {
     "data": {
      "text/html": [
       "<div>\n",
       "<style scoped>\n",
       "    .dataframe tbody tr th:only-of-type {\n",
       "        vertical-align: middle;\n",
       "    }\n",
       "\n",
       "    .dataframe tbody tr th {\n",
       "        vertical-align: top;\n",
       "    }\n",
       "\n",
       "    .dataframe thead th {\n",
       "        text-align: right;\n",
       "    }\n",
       "</style>\n",
       "<table border=\"1\" class=\"dataframe\">\n",
       "  <thead>\n",
       "    <tr style=\"text-align: right;\">\n",
       "      <th></th>\n",
       "      <th>age</th>\n",
       "      <th>fnlwgt</th>\n",
       "      <th>education-num</th>\n",
       "      <th>capital-gain</th>\n",
       "      <th>capital-loss</th>\n",
       "      <th>hours-per-week</th>\n",
       "      <th>AgeBinned</th>\n",
       "      <th>AgeBinnedAdaptive</th>\n",
       "    </tr>\n",
       "  </thead>\n",
       "  <tbody>\n",
       "    <tr>\n",
       "      <th>26464</th>\n",
       "      <td>27.0</td>\n",
       "      <td>329005.0</td>\n",
       "      <td>9.0</td>\n",
       "      <td>0.0</td>\n",
       "      <td>0.0</td>\n",
       "      <td>40.0</td>\n",
       "      <td>1</td>\n",
       "      <td>0</td>\n",
       "    </tr>\n",
       "    <tr>\n",
       "      <th>16134</th>\n",
       "      <td>21.0</td>\n",
       "      <td>186648.0</td>\n",
       "      <td>10.0</td>\n",
       "      <td>0.0</td>\n",
       "      <td>0.0</td>\n",
       "      <td>20.0</td>\n",
       "      <td>0</td>\n",
       "      <td>0</td>\n",
       "    </tr>\n",
       "    <tr>\n",
       "      <th>4747</th>\n",
       "      <td>51.0</td>\n",
       "      <td>68882.0</td>\n",
       "      <td>2.0</td>\n",
       "      <td>0.0</td>\n",
       "      <td>0.0</td>\n",
       "      <td>35.0</td>\n",
       "      <td>1</td>\n",
       "      <td>2</td>\n",
       "    </tr>\n",
       "    <tr>\n",
       "      <th>8369</th>\n",
       "      <td>24.0</td>\n",
       "      <td>201680.0</td>\n",
       "      <td>9.0</td>\n",
       "      <td>0.0</td>\n",
       "      <td>0.0</td>\n",
       "      <td>60.0</td>\n",
       "      <td>0</td>\n",
       "      <td>0</td>\n",
       "    </tr>\n",
       "    <tr>\n",
       "      <th>5741</th>\n",
       "      <td>32.0</td>\n",
       "      <td>107218.0</td>\n",
       "      <td>13.0</td>\n",
       "      <td>0.0</td>\n",
       "      <td>0.0</td>\n",
       "      <td>40.0</td>\n",
       "      <td>1</td>\n",
       "      <td>1</td>\n",
       "    </tr>\n",
       "  </tbody>\n",
       "</table>\n",
       "</div>"
      ],
      "text/plain": [
       "        age    fnlwgt  education-num  capital-gain  capital-loss  \\\n",
       "26464  27.0  329005.0            9.0           0.0           0.0   \n",
       "16134  21.0  186648.0           10.0           0.0           0.0   \n",
       "4747   51.0   68882.0            2.0           0.0           0.0   \n",
       "8369   24.0  201680.0            9.0           0.0           0.0   \n",
       "5741   32.0  107218.0           13.0           0.0           0.0   \n",
       "\n",
       "       hours-per-week AgeBinned AgeBinnedAdaptive  \n",
       "26464            40.0         1                 0  \n",
       "16134            20.0         0                 0  \n",
       "4747             35.0         1                 2  \n",
       "8369             60.0         0                 0  \n",
       "5741             40.0         1                 1  "
      ]
     },
     "execution_count": 13,
     "metadata": {},
     "output_type": "execute_result"
    }
   ],
   "source": [
    "quantile_list = [0, 0.33, 0.66, 1]\n",
    "quantile_labels = [0, 1, 2]\n",
    "\n",
    "train_X_bin_age['AgeBinnedAdaptive'] = pd.qcut(train_X_bin_age['age'], \n",
    "                                               q=quantile_list, labels=quantile_labels)\n",
    "val_X_bin_age['AgeBinnedAdaptive'] = pd.qcut(val_X_bin_age['age'],   \n",
    "                                             q=quantile_list, labels=quantile_labels)\n",
    "\n",
    "train_X_bin_age.head(5)"
   ]
  },
  {
   "cell_type": "markdown",
   "metadata": {
    "slideshow": {
     "slide_type": "subslide"
    }
   },
   "source": [
    "### Statistical Transformations\n",
    "\n",
    "Many variables, such as ``capital-gain`` or ``fnlwgt`` (sampling weight) span several orders of magnitude. While the vast majority of persons has very small capital-gains, a few people have very high gains. To work with such skewed variables we can use the log transformation. \n",
    "\n",
    "__Log transforms__ are useful when applied to skewed distributions as they tend to expand the values which fall in the range of lower magnitudes and tend to compress or reduce the values which fall in the range of higher magnitudes. This tends to make the skewed distribution as normal-like as possible."
   ]
  },
  {
   "cell_type": "code",
   "execution_count": 14,
   "metadata": {
    "slideshow": {
     "slide_type": "fragment"
    }
   },
   "outputs": [],
   "source": [
    "import numpy as np\n",
    "\n",
    "train_X_logGains = train_X_num.copy()\n",
    "val_X_logGains = val_X_num.copy()\n",
    "\n",
    "train_X_logGains['logfnlwgt'] = np.log1p(train_X_logGains['fnlwgt'])\n",
    "val_X_logGains['logfnlwgt'] = np.log1p(val_X_logGains['fnlwgt'])"
   ]
  },
  {
   "cell_type": "markdown",
   "metadata": {
    "slideshow": {
     "slide_type": "subslide"
    }
   },
   "source": [
    "We can see this effect plotting both histograms:"
   ]
  },
  {
   "cell_type": "code",
   "execution_count": 15,
   "metadata": {
    "scrolled": true,
    "slideshow": {
     "slide_type": "fragment"
    }
   },
   "outputs": [
    {
     "data": {
      "image/png": "[encoded data removed]",
      "text/plain": [
       "<Figure size 640x480 with 2 Axes>"
      ]
     },
     "metadata": {},
     "output_type": "display_data"
    }
   ],
   "source": [
    "%matplotlib inline\n",
    "train_X_logGains[['fnlwgt', 'logfnlwgt']].hist();"
   ]
  },
  {
   "cell_type": "markdown",
   "metadata": {
    "slideshow": {
     "slide_type": "subslide"
    }
   },
   "source": [
    "### Evaluation\n",
    "\n",
    "We can train support vector machines (support vector classifiers, ``SVC``) using the different datasets and feature engineering techniques to evaluate their impact on the model performance. Note that we could (and should) combine these techniques to train powerful models and apply them in real-world problems."
   ]
  },
  {
   "cell_type": "code",
   "execution_count": 16,
   "metadata": {
    "slideshow": {
     "slide_type": "fragment"
    }
   },
   "outputs": [],
   "source": [
    "from sklearn.svm import SVC\n",
    "from sklearn.metrics import accuracy_score\n",
    "\n",
    "def score_dataset(X_train, X_valid, y_train, y_valid):\n",
    "    model = SVC(gamma='auto', random_state=0)\n",
    "    model.fit(X_train, y_train)\n",
    "    preds = model.predict(X_valid)\n",
    "    return accuracy_score(y_valid, preds)"
   ]
  },
  {
   "cell_type": "code",
   "execution_count": 17,
   "metadata": {
    "scrolled": true,
    "slideshow": {
     "slide_type": "fragment"
    }
   },
   "outputs": [
    {
     "name": "stdout",
     "output_type": "stream",
     "text": [
      "Raw Features: 0.7558039552880481\n",
      "Normalized Features: 0.800761577201818\n",
      "Standardized Features: 0.8204151824100233\n",
      "Binary Age: 0.7560496253531507\n",
      "Binned Age: 0.7560496253531507\n",
      "Log FNLWGT: 0.7560496253531507\n"
     ]
    }
   ],
   "source": [
    "print(\"Raw Features: {}\".\n",
    "      format(score_dataset(train_X_num, val_X_num, train_y, val_y)))\n",
    "print(\"Normalized Features: {}\".\n",
    "      format(score_dataset(train_X_num_normalized, val_X_num_normalized, train_y, val_y)))\n",
    "print(\"Standardized Features: {}\".\n",
    "      format(score_dataset(train_X_num_standardized, val_X_num_standardized, train_y, val_y)))\n",
    "print(\"Binary Age: {}\".format(score_dataset(train_X_binary_age, val_X_binary_age, train_y, val_y)))\n",
    "print(\"Binned Age: {}\".format(score_dataset(train_X_bin_age, val_X_bin_age, train_y, val_y)))\n",
    "print(\"Log FNLWGT: {}\".format(score_dataset(train_X_logGains, val_X_logGains, train_y, val_y)))"
   ]
  },
  {
   "cell_type": "markdown",
   "metadata": {},
   "source": [
    "# Exercises\n",
    "1. Replace `SVC` model with the `RandomForestClassifier` model and retrain the model with: Raw Features, Normalized Features and Standardized Features. Hint: import the model in this [scikit-learn documentation](https://scikit-learn.org/1.5/modules/generated/sklearn.ensemble.RandomForestClassifier.html). You only need to set `n_estimators=100` and `random_state=1`.\n",
    "\n",
    "2. Can you explain why the results are relatively the same?"
   ]
  },
  {
   "cell_type": "markdown",
   "metadata": {},
   "source": [
    "# Solutions"
   ]
  },
  {
   "cell_type": "code",
   "execution_count": 18,
   "metadata": {},
   "outputs": [
    {
     "name": "stdout",
     "output_type": "stream",
     "text": [
      "Raw Features: 0.806411988699177\n",
      "Normalized Features: 0.8061663186340744\n",
      "Standardized Features: 0.8056749785038693\n"
     ]
    }
   ],
   "source": [
    "from sklearn.ensemble import RandomForestClassifier\n",
    "\n",
    "def score_dataset_rf(X_train, X_valid, y_train, y_valid):\n",
    "    model = RandomForestClassifier(n_estimators=100, random_state=1)\n",
    "    model.fit(X_train, y_train)\n",
    "    preds = model.predict(X_valid)\n",
    "    return accuracy_score(y_valid, preds)\n",
    "\n",
    "print(\"Raw Features: {}\".\n",
    "      format(score_dataset_rf(train_X_num, val_X_num, train_y, val_y)))\n",
    "print(\"Normalized Features: {}\".\n",
    "      format(score_dataset_rf(train_X_num_normalized, val_X_num_normalized, train_y, val_y)))\n",
    "print(\"Standardized Features: {}\".\n",
    "      format(score_dataset_rf(train_X_num_standardized, val_X_num_standardized, train_y, val_y)))"
   ]
  },
  {
   "cell_type": "markdown",
   "metadata": {},
   "source": [
    "Scaling techniques aim to put all features into the same scale, preventing any single feature from dominating others in priority. These techniques are crucial for distance-based algorithms that rely on distance measures for their calculations such as K-Nearest-Neighbors or Support Vector Machines. On the other hand, Random Forest is a tree-based modelm not a distance-based one. The algorithm partitions data to make predictions, and each partition (or split) of a decision tree is soly based on one feature, which is independent of other features. Therefore, scaling is unncessary for tree-based algorithms. For more in-depth explanation, check the [resource here](https://www.kdnuggets.com/2022/07/random-forest-algorithm-need-normalization.html)."
   ]
  },
  {
   "cell_type": "markdown",
   "metadata": {
    "slideshow": {
     "slide_type": "slide"
    }
   },
   "source": [
    "## Feature Engineering on Categorical Data\n",
    "\n",
    "In contrast to continuous numeric data we mean discrete values which belong to a specific finite set of categories or classes when we talk about categorical data. These discrete values can be text or numeric in nature and there are two major classes of categorical data, nominal and ordinal.\n",
    "\n",
    "While a lot of advancements have been made in state of the art machine learning frameworks to accept categorical data types like text labels. Typically any standard workflow in feature engineering involves some form of transformation of these categorical values into numeric labels and then applying some encoding scheme on these values."
   ]
  },
  {
   "cell_type": "markdown",
   "metadata": {
    "slideshow": {
     "slide_type": "subslide"
    }
   },
   "source": [
    "### One-Hot-Encoding\n",
    "\n",
    "Last week, we already talked about label and one-hot-encoding to prepare our categorical features for machine learning models. To get started, we will impute missing values and encode all categorical features using the ``OneHotEncoder``:"
   ]
  },
  {
   "cell_type": "code",
   "execution_count": 19,
   "metadata": {},
   "outputs": [],
   "source": [
    "from sklearn.preprocessing import OneHotEncoder"
   ]
  },
  {
   "cell_type": "markdown",
   "metadata": {
    "slideshow": {
     "slide_type": "subslide"
    }
   },
   "source": [
    "Again, we will use a helper function to evaluate the performance of our models. This time, we will rely on a random forest model."
   ]
  },
  {
   "cell_type": "code",
   "execution_count": 20,
   "metadata": {
    "scrolled": false
   },
   "outputs": [],
   "source": [
    "catCols = [cname for cname in train_X.columns if train_X[cname].dtype == \"object\"]\n",
    "\n",
    "train_X_cat = train_X[catCols].copy()\n",
    "val_X_cat = val_X[catCols].copy()\n"
   ]
  },
  {
   "cell_type": "code",
   "execution_count": 21,
   "metadata": {},
   "outputs": [],
   "source": [
    "simple_imputer = SimpleImputer(strategy='most_frequent')\n",
    "\n",
    "train_X_imputed = pd.DataFrame(simple_imputer.fit_transform(train_X_cat), columns=train_X_cat.columns, index=train_X_cat.index)\n",
    "val_X_imputed  = pd.DataFrame(simple_imputer.transform(val_X_cat), columns=val_X_cat.columns, index=val_X_cat.index)\n",
    "\n",
    "oh_encoder = OneHotEncoder(handle_unknown='ignore', sparse_output=False)\n",
    "train_X_OHenc = pd.DataFrame(oh_encoder.fit_transform(train_X_imputed), index=train_X_imputed.index)\n",
    "val_X_OHenc = pd.DataFrame(oh_encoder.transform(val_X_imputed), index=val_X_imputed.index)\n",
    "\n"
   ]
  },
  {
   "cell_type": "code",
   "execution_count": 22,
   "metadata": {
    "slideshow": {
     "slide_type": "fragment"
    }
   },
   "outputs": [],
   "source": [
    "from sklearn.ensemble import RandomForestClassifier\n",
    "from sklearn.metrics import accuracy_score\n",
    "\n",
    "def score_dataset(X_train, X_valid, y_train, y_valid):\n",
    "    model = RandomForestClassifier(n_estimators=100, random_state=0)\n",
    "    model.fit(X_train, y_train)\n",
    "    preds = model.predict(X_valid)\n",
    "    return accuracy_score(y_valid, preds)"
   ]
  },
  {
   "cell_type": "markdown",
   "metadata": {
    "slideshow": {
     "slide_type": "fragment"
    }
   },
   "source": [
    "To evaluate the model we combine the raw numerical data and the encoded categorical variables."
   ]
  },
  {
   "cell_type": "code",
   "execution_count": 23,
   "metadata": {
    "slideshow": {
     "slide_type": "fragment"
    }
   },
   "outputs": [
    {
     "name": "stdout",
     "output_type": "stream",
     "text": [
      "One-Hot encoded categorical + raw numeric: 0.8523522908733571\n"
     ]
    }
   ],
   "source": [
    "train_X_OH_num = train_X_num.join(train_X_OHenc.add_suffix(\"_OHenc\"))\n",
    "val_X_OH_num = val_X_num.join(val_X_OHenc.add_suffix(\"_OHenc\"))\n",
    "\n",
    "\n",
    "print(\"One-Hot encoded categorical + raw numeric: {}\".\n",
    "      format(score_dataset(train_X_OH_num, val_X_OH_num, train_y, val_y)))"
   ]
  },
  {
   "cell_type": "markdown",
   "metadata": {
    "slideshow": {
     "slide_type": "subslide"
    }
   },
   "source": [
    "### Count Encodings\n",
    "\n",
    "While label and one-hot encoding often yield good results, there are also a lot of other (more complex) techniques to encode categorical variables. The package [categorical-encoding](https://github.com/scikit-learn-contrib/categorical-encoding) offers implementations of many different techniques.\n",
    "\n",
    "One prominent variant is called count encoding. Count encoding replaces each categorical value with the number of times it appears in the dataset. For example, if the value \"USA\" occures 50 times in the country feature, then each \"USA\" would be replaced with the number 50."
   ]
  },
  {
   "cell_type": "code",
   "execution_count": 24,
   "metadata": {
    "slideshow": {
     "slide_type": "fragment"
    }
   },
   "outputs": [
    {
     "name": "stdout",
     "output_type": "stream",
     "text": [
      "Count encoded categorical + raw numeric: 0.8500184252548827\n"
     ]
    }
   ],
   "source": [
    "from category_encoders import CountEncoder\n",
    "\n",
    "count_encoder = CountEncoder(handle_unknown=0, handle_missing='value')\n",
    "\n",
    "train_X_countenc = count_encoder.fit_transform(train_X_cat)\n",
    "val_X_countenc = count_encoder.transform(val_X_cat)\n",
    "\n",
    "train_X_count_num = train_X_num.join(train_X_countenc.add_suffix(\"_countenc\"))\n",
    "val_X_count_num = val_X_num.join(val_X_countenc.add_suffix(\"_countenc\"))\n",
    "\n",
    "print(\"Count encoded categorical + raw numeric: {}\".\n",
    "      format(score_dataset(train_X_count_num, val_X_count_num, train_y, val_y)))"
   ]
  },
  {
   "cell_type": "markdown",
   "metadata": {
    "slideshow": {
     "slide_type": "subslide"
    }
   },
   "source": [
    "### Target Encodings\n",
    "\n",
    "Target encoding is another advanced (but sometimes dangerous) approach to encode categorical features. It replaces a categorical value with the average value of the target for that value of the feature. \n"
   ]
  },
  {
   "cell_type": "markdown",
   "metadata": {
    "slideshow": {
     "slide_type": "fragment"
    }
   },
   "source": [
    "For example, given the country value \"GER\", you'd calculate the average outcome for all the rows with country == 'GER'. This value is often blended with the target probability over the entire dataset to reduce the variance of values with few occurences and to avoid overfitting. See [here](https://towardsdatascience.com/dealing-with-categorical-variables-by-using-target-encoder-a0f1733a4c69) for a more detailed explanation.\n"
   ]
  },
  {
   "cell_type": "markdown",
   "metadata": {
    "slideshow": {
     "slide_type": "fragment"
    }
   },
   "source": [
    "__Attention:__ This technique uses the targets to create new features. So including the validation or test data in the target encodings would be a form of target leakage. Instead, you should learn the target encodings from the __training dataset only__ and apply it to the other datasets (as we did with all other encoding methods).\n",
    "\n",
    "See also [here](https://medium.com/analytics-vidhya/target-encoding-vs-one-hot-encoding-with-simple-examples-276a7e7b3e64) for another illustrative example. "
   ]
  },
  {
   "cell_type": "code",
   "execution_count": 25,
   "metadata": {
    "slideshow": {
     "slide_type": "subslide"
    }
   },
   "outputs": [
    {
     "name": "stdout",
     "output_type": "stream",
     "text": [
      "Target encoded categorical + raw numeric: 0.8524751259059083\n"
     ]
    }
   ],
   "source": [
    "from category_encoders import TargetEncoder\n",
    "\n",
    "target_encoder = TargetEncoder()\n",
    "\n",
    "train_X_targetenc = target_encoder.fit_transform(train_X_cat, train_y)\n",
    "val_X_targetenc = target_encoder.transform(val_X_cat)\n",
    "\n",
    "train_X_target_num = train_X_num.join(train_X_targetenc.add_suffix(\"_targetenc\"))\n",
    "val_X_target_num = val_X_num.join(val_X_targetenc.add_suffix(\"_targetenc\"))\n",
    "\n",
    "print(\"Target encoded categorical + raw numeric: {}\".\n",
    "      format(score_dataset(train_X_target_num, val_X_target_num, train_y, val_y)))"
   ]
  },
  {
   "cell_type": "markdown",
   "metadata": {
    "slideshow": {
     "slide_type": "subslide"
    }
   },
   "source": [
    "### CatBoost Encoding\n",
    "\n",
    "Finally, we'll look at CatBoost encoding. CatBoost extends the target encoding approach. It reduces problems of target encoding regarding target leakage and overfitting.\n",
    "\n",
    "Roughtly, Catboost encoding is similar to target encoding in that it's based on the target probablity for a given value. However with CatBoost, for each row, the __target probability__ is calculated only from __the rows before it__. Interested readers may find more details [here](https://towardsdatascience.com/how-catboost-encodes-categorical-variables-3866fb2ae640). "
   ]
  },
  {
   "cell_type": "code",
   "execution_count": 26,
   "metadata": {
    "slideshow": {
     "slide_type": "fragment"
    }
   },
   "outputs": [
    {
     "name": "stdout",
     "output_type": "stream",
     "text": [
      "CatBoost encoded categorical + raw numeric: 0.860090897924088\n"
     ]
    }
   ],
   "source": [
    "from category_encoders import CatBoostEncoder\n",
    "\n",
    "catboost_encoder = CatBoostEncoder()\n",
    "\n",
    "train_X_catboostenc = catboost_encoder.fit_transform(train_X_cat, train_y)\n",
    "val_X_catboostenc = catboost_encoder.transform(val_X_cat)\n",
    "\n",
    "train_X_catboost_num = train_X_num.join(train_X_catboostenc.add_suffix(\"_targetenc\"))\n",
    "val_X_catboost_num = val_X_num.join(val_X_catboostenc.add_suffix(\"_targetenc\"))\n",
    "\n",
    "print(\"CatBoost encoded categorical + raw numeric: {}\".\n",
    "      format(score_dataset(train_X_catboost_num, val_X_catboost_num, train_y, val_y)))"
   ]
  },
  {
   "cell_type": "markdown",
   "metadata": {
    "slideshow": {
     "slide_type": "subslide"
    }
   },
   "source": [
    "### Warning\n",
    "\n",
    "Target encoding is a powerful but dangerous way to improve on your machine learning methods. \n",
    "\n",
    "Advantages: \n",
    "* Compact transformation of categorical variables\n",
    "* Powerful basis for feature engineering\n",
    "\n",
    "Disadvantages:\n",
    "* Careful validation is required to avoid overfitting\n",
    "* Significant performance improvements only on some datasets"
   ]
  },
  {
   "cell_type": "markdown",
   "metadata": {},
   "source": [
    "# Exercises\n",
    "\n",
    "1. Rewrite the score_dataset to use Support Vector Classifier `SVC` and train the case of CatBoost Encoding again with `SVC`. Hint: you can use the provided `score_dataset_svc` below, which is copied from the section \"Feature Engineering on Numeric Data\" above.\n",
    "\n",
    "2. Use standardized numeric features, i.e. `train_X_num_standardized` and `val_X_num_standardized` from previous section and combine it with CatBoost Encoding for training the `SVC` model.\n",
    "\n",
    "The final results should have two cases: \n",
    "\n",
    "- One-hot encoded categorical + standardized numeric\n",
    "- CatBoost encoded categorical + standardized numeric\n"
   ]
  },
  {
   "cell_type": "markdown",
   "metadata": {},
   "source": [
    "# Solutions"
   ]
  },
  {
   "cell_type": "code",
   "execution_count": 27,
   "metadata": {},
   "outputs": [],
   "source": [
    "from sklearn.svm import SVC\n",
    "from sklearn.metrics import accuracy_score\n",
    "\n",
    "# Use this for the exercises\n",
    "def score_dataset_svc(X_train, X_valid, y_train, y_valid):\n",
    "    model = SVC(gamma='auto', random_state=0)\n",
    "    model.fit(X_train, y_train)\n",
    "    preds = model.predict(X_valid)\n",
    "    return accuracy_score(y_valid, preds)"
   ]
  },
  {
   "cell_type": "code",
   "execution_count": 28,
   "metadata": {},
   "outputs": [
    {
     "name": "stdout",
     "output_type": "stream",
     "text": [
      "Target encoded categorical + standardized numeric: 0.8506326004176391\n"
     ]
    }
   ],
   "source": [
    "# Join the standardized features of train & validation sets with the one-hot encoded categorical features \n",
    "train_X_onehot_num_std = train_X_num_standardized.join(train_X_OHenc.add_suffix(\"_targetenc\"))\n",
    "val_X_onehot_num_std = val_X_num_standardized.join(val_X_OHenc.add_suffix(\"_targetenc\"))\n",
    "\n",
    "# Train CatBoost encoded categorical + standardized numeric\n",
    "print(\"Target encoded categorical + standardized numeric: {}\".\n",
    "      format(score_dataset_svc(train_X_onehot_num_std, val_X_onehot_num_std, train_y, val_y)))"
   ]
  },
  {
   "cell_type": "code",
   "execution_count": 29,
   "metadata": {},
   "outputs": [
    {
     "name": "stdout",
     "output_type": "stream",
     "text": [
      "CatBoost encoded categorical + standardized numeric: 0.8487900749293699\n"
     ]
    }
   ],
   "source": [
    "# Join the standardized features of train & validation sets with the CatBoost encoded categorical features \n",
    "train_X_catboost_num_std = train_X_num_standardized.join(train_X_catboostenc.add_suffix(\"_targetenc\"))\n",
    "val_X_catboost_num_std = val_X_num_standardized.join(val_X_catboostenc.add_suffix(\"_targetenc\"))\n",
    "\n",
    "# Train CatBoost encoded categorical + standardized numeric\n",
    "print(\"CatBoost encoded categorical + standardized numeric: {}\".\n",
    "      format(score_dataset_svc(train_X_catboost_num_std, val_X_catboost_num_std, train_y, val_y)))"
   ]
  },
  {
   "cell_type": "markdown",
   "metadata": {},
   "source": [
    "## Mentimeters"
   ]
  },
  {
   "cell_type": "markdown",
   "metadata": {
    "slideshow": {
     "slide_type": "slide"
    }
   },
   "source": [
    "## Conclusion\n",
    "\n",
    "Today, we have seen a variety of ways to encode numerical and categorical features to improve the performance of our machine learning models. To try even more encoding methods you can try the implementations in the categorical-encoding package on [github](https://github.com/scikit-learn-contrib/categorical-encoding).\n",
    "\n",
    "While the approaches we have talked about today have the potential to create powerful models, they require a lot of manual tuning and testing. "
   ]
  }
 ],
 "metadata": {
  "celltoolbar": "Slideshow",
  "kernelspec": {
   "display_name": "ml",
   "language": "python",
   "name": "python3"
  },
  "language_info": {
   "codemirror_mode": {
    "name": "ipython",
    "version": 3
   },
   "file_extension": ".py",
   "mimetype": "text/x-python",
   "name": "python",
   "nbconvert_exporter": "python",
   "pygments_lexer": "ipython3",
   "version": "3.10.15"
  },
  "rise": {
   "enable_chalkboard": false,
   "overlay": "<div class='background'></div><div class='header'>WS 23/24</br>TDS2</div><div class='logo'><img src='images/d3logo.png'></div><div class='bar'></div>",
   "scroll": true,
   "slideNumber": "h.v"
  },
  "toc": {
   "base_numbering": 1,
   "nav_menu": {},
   "number_sections": true,
   "sideBar": true,
   "skip_h1_title": true,
   "title_cell": "Table of Contents",
   "title_sidebar": "Contents",
   "toc_cell": true,
   "toc_position": {},
   "toc_section_display": true,
   "toc_window_display": false
  }
 },
 "nbformat": 4,
 "nbformat_minor": 4
}
